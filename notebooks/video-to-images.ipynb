{
 "cells": [
  {
   "cell_type": "code",
   "execution_count": 1,
   "metadata": {},
   "outputs": [],
   "source": [
    "import cv2\n",
    "from pathlib import Path"
   ]
  },
  {
   "cell_type": "code",
   "execution_count": 8,
   "metadata": {},
   "outputs": [],
   "source": [
    "INTERVAL = 2"
   ]
  },
  {
   "cell_type": "code",
   "execution_count": 10,
   "metadata": {},
   "outputs": [],
   "source": [
    "# Convert a video to a series of images captured aat 10fps\n",
    "def convert_video_to_images(video_path: Path, output_dir: Path):\n",
    "    if not video_path.exists():\n",
    "        print(f\"Video file {video_path} does not exist\")\n",
    "        return\n",
    "\n",
    "    if not output_dir.exists():\n",
    "        print(f\"Output directory {output_dir} does not exist\")\n",
    "        return\n",
    "\n",
    "    video = cv2.VideoCapture(str(video_path))\n",
    "    fps = video.get(cv2.CAP_PROP_FPS)\n",
    "    frame_count = video.get(cv2.CAP_PROP_FRAME_COUNT)\n",
    "    print(f\"Video {video_path} has {frame_count} frames at {fps} fps\")\n",
    "\n",
    "    frame_number = 0\n",
    "    while True:\n",
    "        ret, frame = video.read()\n",
    "        if not ret:\n",
    "            break\n",
    "        if frame_number % INTERVAL == 0:\n",
    "            image_path = output_dir / f\"{frame_number:06d}.jpg\"\n",
    "            cv2.imwrite(str(image_path), frame)\n",
    "        frame_number += 1\n",
    "    video.release()"
   ]
  },
  {
   "cell_type": "code",
   "execution_count": 11,
   "metadata": {},
   "outputs": [
    {
     "name": "stdout",
     "output_type": "stream",
     "text": [
      "Video /home/salkhon/repo/colorization/data/film/film.mp4 has 600.0 frames at 23.93612978871698 fps\n"
     ]
    }
   ],
   "source": [
    "convert_video_to_images(\n",
    "    Path(\"/home/salkhon/repo/colorization/data/film/film.mp4\"),\n",
    "    Path(\"/home/salkhon/repo/colorization/data/film/images\"),\n",
    ")"
   ]
  },
  {
   "cell_type": "code",
   "execution_count": null,
   "metadata": {},
   "outputs": [],
   "source": []
  }
 ],
 "metadata": {
  "kernelspec": {
   "display_name": "general",
   "language": "python",
   "name": "python3"
  },
  "language_info": {
   "codemirror_mode": {
    "name": "ipython",
    "version": 3
   },
   "file_extension": ".py",
   "mimetype": "text/x-python",
   "name": "python",
   "nbconvert_exporter": "python",
   "pygments_lexer": "ipython3",
   "version": "3.11.4"
  }
 },
 "nbformat": 4,
 "nbformat_minor": 2
}
